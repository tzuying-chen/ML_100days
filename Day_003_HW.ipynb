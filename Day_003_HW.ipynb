{
  "nbformat": 4,
  "nbformat_minor": 0,
  "metadata": {
    "kernelspec": {
      "display_name": "Python 3",
      "language": "python",
      "name": "python3"
    },
    "language_info": {
      "codemirror_mode": {
        "name": "ipython",
        "version": 3
      },
      "file_extension": ".py",
      "mimetype": "text/x-python",
      "name": "python",
      "nbconvert_exporter": "python",
      "pygments_lexer": "ipython3",
      "version": "3.7.0"
    },
    "colab": {
      "name": "Day_003_HW.ipynb",
      "provenance": [],
      "collapsed_sections": [],
      "include_colab_link": true
    }
  },
  "cells": [
    {
      "cell_type": "markdown",
      "metadata": {
        "id": "view-in-github",
        "colab_type": "text"
      },
      "source": [
        "<a href=\"https://colab.research.google.com/github/tzuying-chen/ML_100days/blob/main/Day_003_HW.ipynb\" target=\"_parent\"><img src=\"https://colab.research.google.com/assets/colab-badge.svg\" alt=\"Open In Colab\"/></a>"
      ]
    },
    {
      "cell_type": "markdown",
      "metadata": {
        "id": "HLJCO6l-AQ9S"
      },
      "source": [
        "## [作業目標]\n",
        "持續接觸有關機器學習的相關專案與最新技術"
      ]
    },
    {
      "cell_type": "markdown",
      "metadata": {
        "id": "zfB_-b_PAQ9W"
      },
      "source": [
        "## [作業重點]\n",
        "透過觀察頂尖公司的機器學習文章，來了解各公司是怎麼應用機器學習在實際的專案上"
      ]
    },
    {
      "cell_type": "markdown",
      "metadata": {
        "id": "CPYiB2PDAQ9X"
      },
      "source": [
        "## [作業]\n",
        "今天的作業希望大家能夠看看全球機器學習巨頭們在做的機器學習專案。以 google 為例，下圖是 Google 內部專案使用機器學習的數量，隨著時間進展，現在早已超過 2000 個專案在使用機器學習。"
      ]
    },
    {
      "cell_type": "markdown",
      "metadata": {
        "id": "i4yjIr42AQ9X"
      },
      "source": [
        "![image](https://cdn-images-1.medium.com/max/800/1*U_L8qI8RmYS-MOBrYvXhSA.png)"
      ]
    },
    {
      "cell_type": "markdown",
      "metadata": {
        "id": "yRgk3J6OAQ9X"
      },
      "source": [
        "底下幫同學整理幾間知名企業的 blog 或機器學習網站 (自行搜尋也可)，這些網站都會整理最新的機器學習專案或者是技術文章，請挑選一篇文章閱讀並試著回答\n",
        "1. 專案的目標？ (要解決什麼問題）\n",
        "2. 使用的技術是？ (只需知道名稱即可，例如：使用 CNN 卷積神經網路做影像分類)\n",
        "3. 資料來源？ "
      ]
    },
    {
      "cell_type": "markdown",
      "metadata": {
        "id": "oNpJE5LvAQ9X"
      },
      "source": [
        "- [Google AI blog](https://ai.googleblog.com/)\n",
        "- [Facebook Research blog](https://research.fb.com/blog/)\n",
        "- [Apple machine learning journal](https://machinelearning.apple.com/)\n",
        "- [機器之心](https://www.jiqizhixin.com/)\n",
        "- [雷鋒網](http://www.leiphone.com/category/ai)"
      ]
    },
    {
      "cell_type": "code",
      "metadata": {
        "colab": {
          "base_uri": "https://localhost:8080/"
        },
        "id": "cxcV-6a6AQ9Y",
        "outputId": "7c0fb792-23f8-4464-9e3b-a817ca95d49e"
      },
      "source": [
        "'''\r\n",
        "the propose of project is to design a frame-level SpecAugment method (f-SpecAugment)\r\n",
        " to improve the convolution neural network(CNN) which is base on HMM ASR system. \r\n",
        "\r\n",
        "the method include three transformations: time warping, frequency masking, and \r\n",
        "time masking. The transformations not only apply at first level but every \r\n",
        "convulation window independently during the training.\r\n",
        "\r\n",
        "\r\n",
        "\r\n",
        "source: Apple machine learning journal, 'Frame-level SpecAugment for Deep Convolutional Neural Networks in Hybrid ASR Systems'\r\n",
        "'''"
      ],
      "execution_count": 1,
      "outputs": [
        {
          "output_type": "execute_result",
          "data": {
            "application/vnd.google.colaboratory.intrinsic+json": {
              "type": "string"
            },
            "text/plain": [
              "\"\\nthe propose of project is to design a frame-level SpecAugment method (f-SpecAugment)\\n to improve the convolution neural network(CNN) which is base on HMM ASR system. \\n\\nthe method include three transformations: time warping, frequency masking, and \\ntime masking. The transformations not only apply at first level but every \\nconvulation window independently during the training.\\n\\n\\n\\nsource: Apple machine learning journal, 'Frame-level SpecAugment for Deep Convolutional Neural Networks in Hybrid ASR Systems'\\n\""
            ]
          },
          "metadata": {
            "tags": []
          },
          "execution_count": 1
        }
      ]
    }
  ]
}