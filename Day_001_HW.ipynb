{
  "nbformat": 4,
  "nbformat_minor": 0,
  "metadata": {
    "anaconda-cloud": {},
    "kernelspec": {
      "display_name": "Python 3",
      "language": "python",
      "name": "python3"
    },
    "language_info": {
      "codemirror_mode": {
        "name": "ipython",
        "version": 3
      },
      "file_extension": ".py",
      "mimetype": "text/x-python",
      "name": "python",
      "nbconvert_exporter": "python",
      "pygments_lexer": "ipython3",
      "version": "3.7.0"
    },
    "colab": {
      "name": "Day_001_HW.ipynb",
      "provenance": [],
      "collapsed_sections": [],
      "include_colab_link": true
    }
  },
  "cells": [
    {
      "cell_type": "markdown",
      "metadata": {
        "id": "view-in-github",
        "colab_type": "text"
      },
      "source": [
        "<a href=\"https://colab.research.google.com/github/tzuying-chen/ML_100days/blob/main/Day_001_HW.ipynb\" target=\"_parent\"><img src=\"https://colab.research.google.com/assets/colab-badge.svg\" alt=\"Open In Colab\"/></a>"
      ]
    },
    {
      "cell_type": "markdown",
      "metadata": {
        "id": "pKhfCAlRXwu9"
      },
      "source": [
        "## 練習時間\n",
        "#### 請寫一個函式用來計算 Mean Square Error\n",
        "$ MSE = \\frac{1}{n}\\sum_{i=1}^{n}{(Y_i - \\hat{Y}_i)^2} $\n",
        "\n",
        "### Hint: [如何取平方](https://googoodesign.gitbooks.io/-ezpython/unit-1.html)"
      ]
    },
    {
      "cell_type": "markdown",
      "metadata": {
        "id": "W5tH5HlDXwvB"
      },
      "source": [
        "# [作業目標]\n",
        "- 仿造範例的MAE函數, 自己寫一個MSE函數(參考上面公式)"
      ]
    },
    {
      "cell_type": "markdown",
      "metadata": {
        "id": "klfjIQGvXwvC"
      },
      "source": [
        "# [作業重點]\n",
        "- 注意程式的縮排\n",
        "- 是否能將數學公式, 轉換為 Python 的函式組合? (In[2], Out[2])"
      ]
    },
    {
      "cell_type": "code",
      "metadata": {
        "collapsed": true,
        "id": "w6zQuJWHXwvC"
      },
      "source": [
        "# 載入基礎套件與代稱\n",
        "import numpy as np\n",
        "import matplotlib.pyplot as plt"
      ],
      "execution_count": 6,
      "outputs": []
    },
    {
      "cell_type": "code",
      "metadata": {
        "collapsed": true,
        "id": "XhAEpsNVXwvD"
      },
      "source": [
        "def mean_absolute_error(y, yp):\n",
        "    \"\"\"\n",
        "    計算 MAE\n",
        "    Args:\n",
        "        - y: 實際值\n",
        "        - yp: 預測值\n",
        "    Return:\n",
        "        - mae: MAE\n",
        "    \"\"\"\n",
        "    mae = MAE = sum(abs(y - yp)) / len(y)\n",
        "    return mae\n",
        "\n",
        "# 定義 mean_squared_error 這個函數, 計算並傳回 MSE\n",
        "def mean_squared_error(y, yp):\n",
        "    \"\"\"\n",
        "    請完成這個 Function 後往下執行\n",
        "    \"\"\"\n",
        "    mae = sum((y - yp)**2) / len(y)\n",
        "\n",
        "    return mae"
      ],
      "execution_count": 21,
      "outputs": []
    },
    {
      "cell_type": "code",
      "metadata": {
        "collapsed": true,
        "colab": {
          "base_uri": "https://localhost:8080/",
          "height": 281
        },
        "id": "GL84x-4kXwvD",
        "outputId": "fae10cc1-c21b-48d2-f6a1-ed342ff438f6"
      },
      "source": [
        "# 與範例相同, 不另外解說\n",
        "w = 3\n",
        "b = 0.5\n",
        "x_lin = np.linspace(0, 100, 101)\n",
        "y = (x_lin + np.random.randn(101) * 5) * w + b\n",
        "\n",
        "plt.plot(x_lin, y, 'b.', label = 'data points')\n",
        "plt.title(\"Assume we have data points\")\n",
        "plt.legend(loc = 2)\n",
        "plt.show()"
      ],
      "execution_count": 2,
      "outputs": [
        {
          "output_type": "display_data",
          "data": {
            "image/png": "[encoded data removed]",
            "text/plain": [
              "<Figure size 432x288 with 1 Axes>"
            ]
          },
          "metadata": {
            "tags": [],
            "needs_background": "light"
          }
        }
      ]
    },
    {
      "cell_type": "code",
      "metadata": {
        "collapsed": true,
        "colab": {
          "base_uri": "https://localhost:8080/",
          "height": 281
        },
        "id": "hpl-9Sj-XwvD",
        "outputId": "06fd8e22-dd05-4de6-c37c-219aa4118a92"
      },
      "source": [
        "# 與範例相同, 不另外解說\n",
        "y_hat = x_lin * w + b\n",
        "plt.plot(x_lin, y, 'b.', label = 'data')\n",
        "plt.plot(x_lin, y_hat, 'r-', label = 'prediction')\n",
        "plt.title(\"Assume we have data points (And the prediction)\")\n",
        "plt.legend(loc = 2)\n",
        "plt.show()"
      ],
      "execution_count": 12,
      "outputs": [
        {
          "output_type": "display_data",
          "data": {
            "image/png": "[encoded data removed]",
            "text/plain": [
              "<Figure size 432x288 with 1 Axes>"
            ]
          },
          "metadata": {
            "tags": [],
            "needs_background": "light"
          }
        }
      ]
    },
    {
      "cell_type": "code",
      "metadata": {
        "collapsed": true,
        "colab": {
          "base_uri": "https://localhost:8080/"
        },
        "id": "nD__Gd4SXwvD",
        "outputId": "e5923988-a852-4392-9579-eba46debda82"
      },
      "source": [
        "# 執行 Function, 確認有沒有正常執行\n",
        "MSE = mean_squared_error(y, y_hat)\n",
        "MAE = mean_absolute_error(y, y_hat)\n",
        "print(\"The Mean squared error is %.3f\" % (MSE))\n",
        "print(\"The Mean absolute error is %.3f\" % (MAE))"
      ],
      "execution_count": 22,
      "outputs": [
        {
          "output_type": "stream",
          "text": [
            "The Mean squared error is 274.219\n",
            "The Mean absolute error is 13.182\n"
          ],
          "name": "stdout"
        }
      ]
    },
    {
      "cell_type": "markdown",
      "metadata": {
        "id": "3ti1G5NzXwvE"
      },
      "source": [
        "# [作業2]\n",
        "\n",
        "請上 Kaggle, 在 Competitions 或 Dataset 中找一組競賽或資料並寫下：\n",
        "\n",
        "1. 你選的這組資料為何重要\n",
        "\n",
        "2. 資料從何而來 (tips: 譬如提供者是誰、以什麼方式蒐集)\n",
        "\n",
        "3. 蒐集而來的資料型態為何\n",
        "\n",
        "4. 這組資料想解決的問題如何評估\n",
        "\n",
        "# [作業3]\n",
        "\n",
        "想像你經營一個自由載客車隊，你希望能透過數據分析以提升業績，請你思考並描述你如何規劃整體的分析/解決方案：\n",
        "\n",
        "1. 核心問題為何 (tips：如何定義 「提升業績 & 你的假設」)\n",
        "\n",
        "2. 資料從何而來 (tips：哪些資料可能會對你想問的問題產生影響 & 資料如何蒐集)\n",
        "\n",
        "3. 蒐集而來的資料型態為何\n",
        "\n",
        "4. 你要回答的問題，其如何評估 (tips：你的假設如何驗證)"
      ]
    },
    {
      "cell_type": "code",
      "metadata": {
        "colab": {
          "base_uri": "https://localhost:8080/",
          "height": 135
        },
        "id": "IKoiUypOZJPD",
        "outputId": "146daba0-8d6f-4b3a-c53a-d19ac9c87467"
      },
      "source": [
        "'''\r\n",
        "New York City Airbnb Open Data\r\n",
        "Airbnb listings and metrics in NYC, NY, USA (2019)\r\n",
        "\r\n",
        "Author: Dgomonov\r\n",
        "The dataset is collecty from \"inside Airbnb\" and which is public Airbnb dataset.\r\n",
        "\r\n",
        "The dataset choose form New York City Airbnb Open Data, which privide by Airbnb \r\n",
        "public database. The dataset collect the activity and metrics in NYC, NY for 2019.\r\n",
        "The dataset was provided as a comma delimited value (csv.) file of 6.93 MB in file\r\n",
        " size and consists of 16 columns which includes id, names, host_id, host_name, longitude,\r\n",
        " room_type, price and various run metrics. The clean-up and analysis of the dataset\r\n",
        "  were done using the Google Collaboratory notebook.\r\n",
        "\r\n",
        "In this project we will devide the data analysis into 4 step \r\n",
        "1, Exprot data analisys-Understand the dataset each attribute's meaning, and background research\r\n",
        "2, data preprocess- data clean remove outlaier, data transformation(change string to computer understand data)\r\n",
        "3, data Modeling- build the model (linear regrassion tree regrassion)\r\n",
        "4, data evaluation - with MSE to check the accuracy.\r\n",
        "'''\r\n",
        "\r\n",
        "\r\n",
        "\r\n",
        "'''\r\n",
        "Process Flow for data analytics process:\r\n",
        "1, Define the objective: how to increase the outstanding achievement (The Driver's evaluation, the quality of car and service)\r\n",
        "2, Data gathering: what data I can collect from the compney and compare with other company (whather the company with the customer rating database)\r\n",
        "3, Data Clean: remove the reduntincy and empty data transfer the data to the compuetr understand value\r\n",
        "4, data Modeling: Dataset devied in to train data and test data. bulid the model to train the train dataset and with test dataset to check the accuracy. \r\n",
        "5, Data analysis; analysis the result and improve the Model or preprocessing.\r\n",
        "\r\n",
        "'''\r\n"
      ],
      "execution_count": 23,
      "outputs": [
        {
          "output_type": "error",
          "ename": "SyntaxError",
          "evalue": "ignored",
          "traceback": [
            "\u001b[0;36m  File \u001b[0;32m\"<ipython-input-23-7035c611104d>\"\u001b[0;36m, line \u001b[0;32m1\u001b[0m\n\u001b[0;31m    New York City Airbnb Open Data\u001b[0m\n\u001b[0m           ^\u001b[0m\n\u001b[0;31mSyntaxError\u001b[0m\u001b[0;31m:\u001b[0m invalid syntax\n"
          ]
        }
      ]
    },
    {
      "cell_type": "code",
      "metadata": {
        "id": "72TmSg05ZNHf"
      },
      "source": [
        ""
      ],
      "execution_count": null,
      "outputs": []
    }
  ]
}